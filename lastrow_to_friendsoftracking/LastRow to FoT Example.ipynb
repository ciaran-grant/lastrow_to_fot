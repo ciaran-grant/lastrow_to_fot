{
 "cells": [
  {
   "cell_type": "markdown",
   "metadata": {},
   "source": [
    "## Import"
   ]
  },
  {
   "cell_type": "code",
   "execution_count": 7,
   "metadata": {
    "collapsed": true
   },
   "outputs": [],
   "source": [
    "import pandas as pd\n",
    "import numpy as np\n",
    "import matplotlib.pyplot as plt\n",
    "import sys\n",
    "laurie_DIR = ''\n",
    "sys.path.append(laurie_DIR + '/LaurieOnTracking-master')\n",
    "import Metrica_Viz as mviz\n",
    "\n",
    "convert_DIR = ''\n",
    "sys.path.append(convert_DIR + '/lastrow_to_friendsoftracking-master')\n",
    "import lastrow_to_friendsoftracking as lrfot"
   ]
  },
  {
   "cell_type": "code",
   "execution_count": 2,
   "metadata": {
    "collapsed": true
   },
   "outputs": [],
   "source": [
    "lastrow_DIR = ''\n",
    "last_row = pd.read_csv(lastrow_DIR + '/Last-Row-master/datasets/positional_data/liverpool_2019.csv', index_col=('play', 'frame'))"
   ]
  },
  {
   "cell_type": "markdown",
   "metadata": {},
   "source": [
    "## Convert to Friends of Tracking wide format"
   ]
  },
  {
   "cell_type": "code",
   "execution_count": 3,
   "metadata": {},
   "outputs": [
    {
     "name": "stderr",
     "output_type": "stream",
     "text": [
      "C:/Users/Ciaran/OneDrive/Documents/Last Man Analytics/20200428 - FoT and Seattle Competition/lastrow_to_friendsoftracking-master\\lastrow_to_friendsoftracking.py:70: SettingWithCopyWarning: \n",
      "A value is trying to be set on a copy of a slice from a DataFrame.\n",
      "Try using .loc[row_indexer,col_indexer] = value instead\n",
      "\n",
      "See the caveats in the documentation: https://pandas.pydata.org/pandas-docs/stable/user_guide/indexing.html#returning-a-view-versus-a-copy\n",
      "  data_attack['Time [s]'] = data_attack['frame'] / 20\n",
      "C:/Users/Ciaran/OneDrive/Documents/Last Man Analytics/20200428 - FoT and Seattle Competition/lastrow_to_friendsoftracking-master\\lastrow_to_friendsoftracking.py:71: SettingWithCopyWarning: \n",
      "A value is trying to be set on a copy of a slice from a DataFrame.\n",
      "Try using .loc[row_indexer,col_indexer] = value instead\n",
      "\n",
      "See the caveats in the documentation: https://pandas.pydata.org/pandas-docs/stable/user_guide/indexing.html#returning-a-view-versus-a-copy\n",
      "  data_defence['Time [s]'] = data_defence['frame'] / 20\n"
     ]
    }
   ],
   "source": [
    "data_attack, data_defence = lrfot.lastrow_to_friendsoftracking(last_row)"
   ]
  },
  {
   "cell_type": "markdown",
   "metadata": {},
   "source": [
    "## Convert to Metric"
   ]
  },
  {
   "cell_type": "code",
   "execution_count": 4,
   "metadata": {
    "collapsed": true
   },
   "outputs": [],
   "source": [
    "data_attack = lrfot.lastrow_to_metric_coordinates(data_attack)\n",
    "data_defence = lrfot.lastrow_to_metric_coordinates(data_defence)"
   ]
  },
  {
   "cell_type": "markdown",
   "metadata": {},
   "source": [
    "## Liverpool Shoot Right to Left"
   ]
  },
  {
   "cell_type": "code",
   "execution_count": 5,
   "metadata": {
    "collapsed": true
   },
   "outputs": [],
   "source": [
    "data_attack, data_defence = lrfot.lastrow_to_single_playing_direction(data_attack, data_defence)"
   ]
  },
  {
   "cell_type": "markdown",
   "metadata": {},
   "source": [
    "## Checks"
   ]
  },
  {
   "cell_type": "code",
   "execution_count": 6,
   "metadata": {},
   "outputs": [
    {
     "data": {
      "image/png": "[encoded data removed]",
      "text/plain": [
       "<Figure size 864x576 with 1 Axes>"
      ]
     },
     "metadata": {},
     "output_type": "display_data"
    }
   ],
   "source": [
    "# Single Frame\n",
    "play = 'Bayern 0 - [1] Liverpool'\n",
    "frame = 10\n",
    "fig,ax = mviz.plot_frame( data_attack.loc[(play, frame)], data_defence.loc[(play, frame)],annotate=True )\n",
    "plt.show()"
   ]
  },
  {
   "cell_type": "code",
   "execution_count": null,
   "metadata": {
    "collapsed": true
   },
   "outputs": [],
   "source": [
    "# Video of Goal\n",
    "PLOTDIR = ''\n",
    "mviz.save_match_clip(tracking_liverpool_attack.loc[m],tracking_liverpool_defense.loc[m],PLOTDIR,fname=name,include_player_velocities=False)"
   ]
  },
  {
   "cell_type": "code",
   "execution_count": null,
   "metadata": {
    "collapsed": true
   },
   "outputs": [],
   "source": [
    "# All Videos of Goals\n",
    "PLOTDIR = ''\n",
    "for m in tracking_liverpool_goals.index.get_level_values('play').unique():\n",
    "    name = m.split(\" \")[0][:3].lower() + m.split(\" \")[1] + m.split(\" \")[-2] + m.split(\" \")[-1][:3].lower()\n",
    "    mviz.save_match_clip(tracking_liverpool_attack.loc[m],tracking_liverpool_defense.loc[m],PLOTDIR,fname=name,include_player_velocities=False)"
   ]
  }
 ],
 "metadata": {
  "kernelspec": {
   "display_name": "Python 3",
   "language": "python",
   "name": "python3"
  },
  "language_info": {
   "codemirror_mode": {
    "name": "ipython",
    "version": 3
   },
   "file_extension": ".py",
   "mimetype": "text/x-python",
   "name": "python",
   "nbconvert_exporter": "python",
   "pygments_lexer": "ipython3",
   "version": "3.6.2"
  }
 },
 "nbformat": 4,
 "nbformat_minor": 2
}
